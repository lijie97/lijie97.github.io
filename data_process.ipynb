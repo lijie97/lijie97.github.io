{
 "cells": [
  {
   "cell_type": "code",
   "execution_count": 2,
   "metadata": {},
   "outputs": [],
   "source": [
    "import featuretools as ft\n",
    "import pandas as pd\n",
    "import numpy as np\n",
    "pd.set_option('display.max_rows', 5)\n"
   ]
  },
  {
   "cell_type": "code",
   "execution_count": 5,
   "metadata": {},
   "outputs": [
    {
     "output_type": "stream",
     "name": "stdout",
     "text": "Num_Acc  catr  prof  surf\n0  201800000001     3   1.0   1.0\n1  201800000002     4   1.0   1.0\n2  201800000003     3   1.0   1.0\n3  201800000004     3   1.0   1.0\n4  201800000005     4   1.0   1.0\n"
    }
   ],
   "source": [
    "lieux = pd.read_csv(\"original-utf8/lieux-2018.csv\")\n",
    "lieux = lieux[[\"Num_Acc\",\"catr\",\"prof\",\"surf\", \"dep\"]]\n",
    "print(lieux.head())"
   ]
  },
  {
   "cell_type": "code",
   "execution_count": 11,
   "metadata": {},
   "outputs": [
    {
     "output_type": "execute_result",
     "data": {
      "text/plain": "'{\"17\":4992,\"18\":4806,\"16\":4130,\"19\":3697,\"15\":3518,\"8\":3438,\"14\":3167,\"12\":3114,\"9\":2963,\"11\":2933,\"13\":2848,\"10\":2614,\"20\":2605,\"7\":2499,\"21\":1857,\"22\":1490,\"23\":1257,\"6\":1224,\"1\":882,\"5\":881,\"2\":640,\"3\":637,\"4\":571,\"55\":2,\"59\":1,\"50\":1,\"34\":1,\"30\":1}'"
     },
     "metadata": {},
     "execution_count": 11
    }
   ],
   "source": [
    "time = pd.read_csv(\"time.csv\")\n",
    "time[\"h\"].value_counts().to_json()"
   ]
  },
  {
   "cell_type": "code",
   "execution_count": 13,
   "metadata": {},
   "outputs": [
    {
     "output_type": "stream",
     "name": "stdout",
     "text": "Num_Acc  mois  hrmn  lum  agg  int  atm       lat     long\n0  201800000001     1  1505    1    1    4  1.0  50.55737  2.94992\n1  201800000002     2  1015    1    2    7  7.0  50.52936  2.93151\n2  201800000003     3  1135    1    2    3  1.0  50.51243  2.91714\n3  201800000004     5  1735    1    2    1  7.0  50.51974  2.89123\n4  201800000005     6  1605    1    2    1  1.0  50.51607  2.90605\n"
    }
   ],
   "source": [
    "caracteristiques = pd.read_csv(\"original-utf8/caracteristiques-2018.csv\")\n",
    "caracteristiques = caracteristiques[[\"Num_Acc\",\"mois\",\"hrmn\",\"lum\",\"agg\",\"int\",\"atm\",\"lat\",\"long\"]]\n",
    "caracteristiques[\"lat\"] = caracteristiques[\"lat\"] / 100000 \n",
    "caracteristiques[\"long\"] = caracteristiques[\"long\"] / 100000 \n",
    "caracteristiques.to_csv(\"carateristiques-2018.csv\")\n",
    "print(caracteristiques.head())"
   ]
  },
  {
   "cell_type": "code",
   "execution_count": 4,
   "metadata": {},
   "outputs": [
    {
     "output_type": "stream",
     "name": "stdout",
     "text": "Num_Acc  grav\n0  201800000001     3\n1  201800000001     1\n2  201800000002     1\n3  201800000002     4\n4  201800000003     3\n"
    }
   ],
   "source": [
    "usagers = pd.read_csv(\"original-utf8/usagers-2018.csv\")\n",
    "usagers = usagers[[\"Num_Acc\",\"grav\"]]\n",
    "print(usagers.head())"
   ]
  },
  {
   "cell_type": "code",
   "execution_count": 5,
   "metadata": {},
   "outputs": [
    {
     "output_type": "stream",
     "name": "stdout",
     "text": "Num_Acc  catv  obs  obsm  manv\n0  201800000001     7  0.0   2.0   1.0\n1  201800000001     7  0.0   2.0  15.0\n2  201800000002     7  0.0   1.0   1.0\n3  201800000003    33  1.0   2.0   1.0\n4  201800000003     7  0.0   2.0  15.0\n"
    }
   ],
   "source": [
    "vehicules = pd.read_csv(\"original-utf8/vehicules-2018.csv\")\n",
    "print(vehicules.head())"
   ]
  },
  {
   "cell_type": "code",
   "execution_count": 6,
   "metadata": {},
   "outputs": [],
   "source": [
    "es = ft.EntitySet(id='Num_Acc')"
   ]
  },
  {
   "cell_type": "code",
   "execution_count": 7,
   "metadata": {},
   "outputs": [],
   "source": [
    "es = es.entity_from_dataframe(entity_id = 'lieux', \n",
    "                  dataframe = lieux,\n",
    "                  index = 'Num_Acc')"
   ]
  },
  {
   "cell_type": "code",
   "execution_count": 8,
   "metadata": {},
   "outputs": [],
   "source": [
    "es = es.entity_from_dataframe(entity_id = 'caracteristiques', \n",
    "                  dataframe = caracteristiques,\n",
    "                  index = 'Num_Acc')"
   ]
  },
  {
   "cell_type": "code",
   "execution_count": 9,
   "metadata": {},
   "outputs": [],
   "source": [
    "es = es.entity_from_dataframe(entity_id = 'usagers',\n",
    "                  make_index = True, \n",
    "                  index=\"usagers_id\",\n",
    "                  dataframe = usagers)"
   ]
  },
  {
   "cell_type": "code",
   "execution_count": 10,
   "metadata": {},
   "outputs": [],
   "source": [
    "es = es.entity_from_dataframe(entity_id = 'vehicules', \n",
    "                  make_index = True, \n",
    "                  dataframe = vehicules,\n",
    "                  index = 'vehicules_id')"
   ]
  },
  {
   "cell_type": "code",
   "execution_count": 11,
   "metadata": {},
   "outputs": [
    {
     "output_type": "execute_result",
     "data": {
      "text/plain": "Entityset: Num_Acc\n  Entities:\n    lieux [Rows: 57783, Columns: 4]\n    caracteristiques [Rows: 57783, Columns: 11]\n    usagers [Rows: 130169, Columns: 3]\n    vehicules [Rows: 98876, Columns: 6]\n  Relationships:\n    caracteristiques.Num_Acc -> lieux.Num_Acc\n    usagers.Num_Acc -> lieux.Num_Acc\n    vehicules.Num_Acc -> lieux.Num_Acc"
     },
     "metadata": {},
     "execution_count": 11
    }
   ],
   "source": [
    "r_acc_previous = ft.Relationship(es['lieux']['Num_Acc'], es['caracteristiques']['Num_Acc'])\n",
    "es = es.add_relationship(r_acc_previous)\n",
    "\n",
    "r_acc_previous = ft.Relationship(es['lieux']['Num_Acc'], es['usagers']['Num_Acc'])\n",
    "es = es.add_relationship(r_acc_previous)\n",
    "\n",
    "r_acc_previous = ft.Relationship(es['lieux']['Num_Acc'], es['vehicules']['Num_Acc'])\n",
    "es = es.add_relationship(r_acc_previous)\n",
    "es"
   ]
  },
  {
   "cell_type": "code",
   "execution_count": 12,
   "metadata": {},
   "outputs": [
    {
     "output_type": "stream",
     "name": "stdout",
     "text": "catr  prof  surf  SUM(caracteristiques.an)  \\\nNum_Acc                                                    \n201800000001     3   1.0   1.0                        18   \n201800000002     4   1.0   1.0                        18   \n201800000003     3   1.0   1.0                        18   \n201800000004     3   1.0   1.0                        18   \n201800000005     4   1.0   1.0                        18   \n\n              SUM(caracteristiques.long)  SUM(caracteristiques.hrmn)  \\\nNum_Acc                                                                \n201800000001                    294992.0                        1505   \n201800000002                    293151.0                        1015   \n201800000003                    291714.0                        1135   \n201800000004                    289123.0                        1735   \n201800000005                    290605.0                        1605   \n\n              SUM(caracteristiques.mois)  SUM(caracteristiques.agg)  \\\nNum_Acc                                                               \n201800000001                           1                          1   \n201800000002                           2                          2   \n201800000003                           3                          2   \n201800000004                           5                          2   \n201800000005                           6                          2   \n\n              SUM(caracteristiques.atm)  SUM(caracteristiques.lum)  ...  \\\nNum_Acc                                                             ...   \n201800000001                        1.0                          1  ...   \n201800000002                        7.0                          1  ...   \n201800000003                        1.0                          1  ...   \n201800000004                        7.0                          1  ...   \n201800000005                        1.0                          1  ...   \n\n              SKEW(vehicules.obs)  MIN(vehicules.manv)  MIN(vehicules.catv)  \\\nNum_Acc                                                                       \n201800000001                  NaN                  1.0                    7   \n201800000002                  NaN                  1.0                    7   \n201800000003             1.732051                  1.0                    7   \n201800000004                  NaN                  0.0                    1   \n201800000005                  NaN                 17.0                    2   \n\n              MIN(vehicules.obsm)  MIN(vehicules.obs)  MEAN(vehicules.manv)  \\\nNum_Acc                                                                       \n201800000001                  2.0                 0.0              8.000000   \n201800000002                  1.0                 0.0              1.000000   \n201800000003                  0.0                 0.0             13.333333   \n201800000004                  2.0                 0.0             10.500000   \n201800000005                  2.0                 0.0             18.500000   \n\n              MEAN(vehicules.catv)  MEAN(vehicules.obsm)  MEAN(vehicules.obs)  \\\nNum_Acc                                                                         \n201800000001              7.000000              2.000000             0.000000   \n201800000002              7.000000              1.000000             0.000000   \n201800000003             15.666667              1.333333             0.333333   \n201800000004              4.000000              5.500000             0.000000   \n201800000005              4.500000              2.000000             0.000000   \n\n              COUNT(vehicules)  \nNum_Acc                         \n201800000001                 2  \n201800000002                 1  \n201800000003                 3  \n201800000004                 2  \n201800000005                 2  \n\n[5 rows x 95 columns]\n"
    }
   ],
   "source": [
    "features, feature_names = ft.dfs(entityset = es, target_entity = 'lieux')\n",
    "print(features.head())"
   ]
  },
  {
   "cell_type": "code",
   "execution_count": 13,
   "metadata": {},
   "outputs": [],
   "source": [
    "feature_matrix_enc, features_enc = ft.encode_features(features, feature_names)"
   ]
  },
  {
   "cell_type": "code",
   "execution_count": 14,
   "metadata": {},
   "outputs": [],
   "source": [
    "feature_matrix_enc.to_csv(\"test.csv\")"
   ]
  },
  {
   "cell_type": "code",
   "execution_count": null,
   "metadata": {},
   "outputs": [],
   "source": []
  }
 ],
 "metadata": {
  "language_info": {
   "codemirror_mode": {
    "name": "ipython",
    "version": 3
   },
   "file_extension": ".py",
   "mimetype": "text/x-python",
   "name": "python",
   "nbconvert_exporter": "python",
   "pygments_lexer": "ipython3",
   "version": "3.8.2-final"
  },
  "orig_nbformat": 2,
  "kernelspec": {
   "name": "python38264bit7b02a20dfc82401ab0b5e1049a3e898b",
   "display_name": "Python 3.8.2 64-bit"
  }
 },
 "nbformat": 4,
 "nbformat_minor": 2
}